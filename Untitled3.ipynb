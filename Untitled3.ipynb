{
 "cells": [
  {
   "cell_type": "code",
   "execution_count": 2,
   "id": "624d6da2-4087-4c10-89bb-24a0958e07e2",
   "metadata": {},
   "outputs": [
    {
     "data": {
      "text/plain": [
       "{'Rudi': 750000.0,\n",
       " 'Rita': 50000.0,\n",
       " 'Asep': 1800000.0,\n",
       " 'Ricky': 2025000.0,\n",
       " 'Lisa': 850000.0,\n",
       " 'Imam': 52500.0,\n",
       " 'Haryo': 7000000.0}"
      ]
     },
     "execution_count": 2,
     "metadata": {},
     "output_type": "execute_result"
    }
   ],
   "source": [
    "# Redefining the variables and recalculating the bonus.\n",
    "\n",
    "level = {\n",
    "    'intern': {\n",
    "        'bonus': 5\n",
    "    },\n",
    "    'staff': {\n",
    "        'bonus': 10\n",
    "    },\n",
    "    'manager': {\n",
    "        'bonus': 15\n",
    "    },\n",
    "    'director': {\n",
    "        'bonus': 20\n",
    "    }\n",
    "}\n",
    "\n",
    "employee_data = [\n",
    "    {\n",
    "        'name': 'Rudi',\n",
    "        'level': 'staff',\n",
    "        'salary': 7500000\n",
    "    },\n",
    "    {\n",
    "        'name': 'Rita',\n",
    "        'level': 'intern',\n",
    "        'salary': 1000000\n",
    "    },\n",
    "    {\n",
    "        'name': 'Asep',\n",
    "        'level': 'manager',\n",
    "        'salary': 12000000\n",
    "    },\n",
    "    {\n",
    "        'name': 'Ricky',\n",
    "        'level': 'manager',\n",
    "        'salary': 13500000\n",
    "    },\n",
    "    {\n",
    "        'name': 'Lisa',\n",
    "        'level': 'staff',\n",
    "        'salary': 8500000\n",
    "    },\n",
    "    {\n",
    "        'name': 'Imam',\n",
    "        'level': 'intern',\n",
    "        'salary': 1050000\n",
    "    },\n",
    "    {\n",
    "        'name': 'Haryo',\n",
    "        'level': 'director',\n",
    "        'salary': 35000000\n",
    "    }\n",
    "]\n",
    "\n",
    "# Recalculating bonus for each employee\n",
    "employee_bonus = {\n",
    "    employee['name']: employee['salary'] * level[employee['level']]['bonus'] / 100\n",
    "    for employee in employee_data\n",
    "}\n",
    "\n",
    "employee_bonus\n"
   ]
  },
  {
   "cell_type": "code",
   "execution_count": null,
   "id": "8d1dda11-d168-4c64-aee3-c5f0054a60b2",
   "metadata": {},
   "outputs": [],
   "source": []
  }
 ],
 "metadata": {
  "kernelspec": {
   "display_name": "Python 3 (ipykernel)",
   "language": "python",
   "name": "python3"
  },
  "language_info": {
   "codemirror_mode": {
    "name": "ipython",
    "version": 3
   },
   "file_extension": ".py",
   "mimetype": "text/x-python",
   "name": "python",
   "nbconvert_exporter": "python",
   "pygments_lexer": "ipython3",
   "version": "3.12.6"
  }
 },
 "nbformat": 4,
 "nbformat_minor": 5
}
