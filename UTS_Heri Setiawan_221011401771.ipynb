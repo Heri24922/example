{
 "cells": [
  {
   "cell_type": "code",
   "execution_count": 1,
   "id": "d4d19919-e73d-4f4a-a7ba-502b0290ba9a",
   "metadata": {},
   "outputs": [],
   "source": [
    "company_detail_list = [\n",
    "    {\n",
    "        'name': 'Company 1',\n",
    "        'domain': 'Retail',\n",
    "        'country': 'United States'\n",
    "    },\n",
    "    {\n",
    "        'name': 'Company 2',\n",
    "        'domain': 'Technology',\n",
    "        'country': 'United Kingdom'\n",
    "    },\n",
    "    {\n",
    "        'name': 'Company 3',\n",
    "        'domain': 'Healthcare',\n",
    "        'country': 'United States'\n",
    "    }\n",
    "]\n",
    "\n",
    "employee_detail_list = [\n",
    "    {\n",
    "        'name': 'EMP-0001',\n",
    "        'first_name': 'John',\n",
    "        'last_name': 'Doe',\n",
    "        'full_name': 'John Doe',\n",
    "        'company': 'Company 1',\n",
    "        'nationality': 'Australia'\n",
    "    },\n",
    "    {\n",
    "        'name': 'EMP-0002',\n",
    "        'first_name': 'Tom',\n",
    "        'last_name': 'Smith',\n",
    "        'full_name': 'Tom Smith',\n",
    "        'company': 'Company 2',\n",
    "        'nationality': 'United States'\n",
    "    },\n",
    "    {\n",
    "        'name': 'EMP-0003',\n",
    "        'first_name': 'Andrew',\n",
    "        'last_name': 'Sebastian',\n",
    "        'full_name': 'Andrew Sebastian',\n",
    "        'company': 'Company 3',\n",
    "        'nationality': 'United States'\n",
    "    },\n",
    "    {\n",
    "        'name': 'EMP-0005',\n",
    "        'first_name': 'Ying Han',\n",
    "        'last_name': 'Tan',\n",
    "        'full_name': 'Ying Han Tan',\n",
    "        'company': 'Company 1',\n",
    "        'nationality': 'Australia'\n",
    "    },\n",
    "    {\n",
    "        'name': 'EMP-0015',\n",
    "        'first_name': 'Kenneth',\n",
    "        'last_name': 'Ng',\n",
    "        'full_name': 'Kenneth Ng',\n",
    "        'company': 'Company 3',\n",
    "        'nationality': 'United States'\n",
    "    },\n",
    "    {\n",
    "        'name': 'EMP-0018',\n",
    "        'first_name': 'Rubby',\n",
    "        'last_name': 'Lee',\n",
    "        'full_name': 'Rubby Lee',\n",
    "        'company': 'Company 2',\n",
    "        'nationality': 'Hong Kong'\n",
    "    },\n",
    "    {\n",
    "        'name': 'EMP-0017',\n",
    "        'first_name': 'Robert',\n",
    "        'last_name': 'White',\n",
    "        'full_name': 'Robert White',\n",
    "        'company': 'Company 1',\n",
    "        'nationality': 'United Kingdom'\n",
    "    }\n",
    "]"
   ]
  },
  {
   "cell_type": "code",
   "execution_count": 2,
   "id": "235b6cec-50b4-4110-a54d-5838e1e1fee2",
   "metadata": {},
   "outputs": [],
   "source": [
    "# Soal 1: Dapatkan daftar semua perusahaan dan urutkan berdasarkan nama perusahaan dalam urutan terbalik\n",
    "def get_sorted_companies():\n",
    "    sorted_companies = sorted(company_detail_list, key=lambda x: x['name'], reverse=True)\n",
    "    return [{'name': company['name']} for company in sorted_companies]\n"
   ]
  },
  {
   "cell_type": "code",
   "execution_count": 3,
   "id": "a3b9a911-3d80-42da-aba6-d8b71e23321e",
   "metadata": {},
   "outputs": [
    {
     "name": "stdout",
     "output_type": "stream",
     "text": [
      "Soal 1:\n",
      "[{'name': 'Company 3'}, {'name': 'Company 2'}, {'name': 'Company 1'}]\n"
     ]
    }
   ],
   "source": [
    "# Hasil\n",
    "print(\"Soal 1:\")\n",
    "print(get_sorted_companies())\n"
   ]
  },
  {
   "cell_type": "code",
   "execution_count": 4,
   "id": "f36cb36c-0801-48a2-aa33-0ae7158b146d",
   "metadata": {},
   "outputs": [],
   "source": [
    "# Soal 2: Tampilkan nilai Domain di setiap perusahaan\n",
    "def print_company_domains():\n",
    "    for company in company_detail_list:\n",
    "        print(f\"{company['name']}: {company['domain']} ({company['country']})\")\n"
   ]
  },
  {
   "cell_type": "code",
   "execution_count": 5,
   "id": "6216098f-c6f3-4c6e-b0e9-be55a7c08b31",
   "metadata": {},
   "outputs": [
    {
     "name": "stdout",
     "output_type": "stream",
     "text": [
      "\n",
      "Soal 2:\n",
      "Company 1: Retail (United States)\n",
      "Company 2: Technology (United Kingdom)\n",
      "Company 3: Healthcare (United States)\n"
     ]
    }
   ],
   "source": [
    "# Hasil\n",
    "print(\"\\nSoal 2:\")\n",
    "print_company_domains()\n"
   ]
  },
  {
   "cell_type": "code",
   "execution_count": 6,
   "id": "1181269e-fc52-47fc-b388-bc0efd6ce9c8",
   "metadata": {},
   "outputs": [],
   "source": [
    "# Soal 3: Daftarkan semua karyawan yang bekerja berdasarkan domain perusahaan\n",
    "def get_employees_by_domain():\n",
    "    domain_employees = {}\n",
    "    for company in company_detail_list:\n",
    "        domain = company['domain']\n",
    "        employees = [emp['full_name'] for emp in employee_detail_list if emp['company'] == company['name']]\n",
    "        domain_employees[domain] = employees\n",
    "    return domain_employees\n"
   ]
  },
  {
   "cell_type": "code",
   "execution_count": 7,
   "id": "08e051be-15d6-42fd-a052-3833cc42de5d",
   "metadata": {},
   "outputs": [
    {
     "name": "stdout",
     "output_type": "stream",
     "text": [
      "\n",
      "Soal 3:\n",
      "{'Retail': ['John Doe', 'Ying Han Tan', 'Robert White'], 'Technology': ['Tom Smith', 'Rubby Lee'], 'Healthcare': ['Andrew Sebastian', 'Kenneth Ng']}\n"
     ]
    }
   ],
   "source": [
    "# Hasil\n",
    "print(\"\\nSoal 3:\")\n",
    "print(get_employees_by_domain())\n"
   ]
  },
  {
   "cell_type": "code",
   "execution_count": 8,
   "id": "7f6aa152-e8d6-4b96-96a5-373f3a4e5917",
   "metadata": {},
   "outputs": [],
   "source": [
    "# Soal 4: Buat fungsi yang mengembalikan karyawan dengan negara perusahaan\n",
    "def get_employees_with_company_country():\n",
    "    result = []\n",
    "    for emp in employee_detail_list:\n",
    "        company_country = next((comp['country'] for comp in company_detail_list if comp['name'] == emp['company']), None)\n",
    "        if company_country:\n",
    "            result.append({\n",
    "                'full_name': emp['full_name'],\n",
    "                'company': emp['company'],\n",
    "                'country': company_country\n",
    "            })\n",
    "    return result"
   ]
  },
  {
   "cell_type": "code",
   "execution_count": 9,
   "id": "16172cb0-bf0b-4c33-94aa-9d17a2afe53e",
   "metadata": {},
   "outputs": [
    {
     "name": "stdout",
     "output_type": "stream",
     "text": [
      "\n",
      "Soal 4:\n",
      "[{'full_name': 'John Doe', 'company': 'Company 1', 'country': 'United States'}, {'full_name': 'Tom Smith', 'company': 'Company 2', 'country': 'United Kingdom'}, {'full_name': 'Andrew Sebastian', 'company': 'Company 3', 'country': 'United States'}, {'full_name': 'Ying Han Tan', 'company': 'Company 1', 'country': 'United States'}, {'full_name': 'Kenneth Ng', 'company': 'Company 3', 'country': 'United States'}, {'full_name': 'Rubby Lee', 'company': 'Company 2', 'country': 'United Kingdom'}, {'full_name': 'Robert White', 'company': 'Company 1', 'country': 'United States'}]\n"
     ]
    }
   ],
   "source": [
    "# Hasil\n",
    "print(\"\\nSoal 4:\")\n",
    "print(get_employees_with_company_country())\n"
   ]
  },
  {
   "cell_type": "code",
   "execution_count": 10,
   "id": "2eaeeafa-70d7-41db-af5a-b9dd01ee4d39",
   "metadata": {},
   "outputs": [],
   "source": [
    "# Soal 5: Buat fungsi yang mengembalikan perusahaan dengan jumlah karyawan berdasarkan kebangsaan yang bekerja di perusahaan tersebut\n",
    "from collections import defaultdict\n",
    "\n",
    "def get_company_employee_nationality_count():\n",
    "    company_nationality_count = []\n",
    "    for company in company_detail_list:\n",
    "        nationality_count = defaultdict(int)\n",
    "        for emp in employee_detail_list:\n",
    "            if emp['company'] == company['name']:\n",
    "                nationality_count[emp['nationality']] += 1\n",
    "        company_nationality_count.append({\n",
    "            'company': company['name'],\n",
    "            'employee_nationality': dict(nationality_count)\n",
    "        })\n",
    "    return company_nationality_count\n"
   ]
  },
  {
   "cell_type": "code",
   "execution_count": 11,
   "id": "193ed87d-4cab-49db-b165-1bd810cfcb71",
   "metadata": {},
   "outputs": [
    {
     "name": "stdout",
     "output_type": "stream",
     "text": [
      "\n",
      "Soal 5:\n",
      "[{'company': 'Company 1', 'employee_nationality': {'Australia': 2, 'United Kingdom': 1}}, {'company': 'Company 2', 'employee_nationality': {'United States': 1, 'Hong Kong': 1}}, {'company': 'Company 3', 'employee_nationality': {'United States': 2}}]\n"
     ]
    }
   ],
   "source": [
    "# Hasil\n",
    "print(\"\\nSoal 5:\")\n",
    "print(get_company_employee_nationality_count())"
   ]
  },
  {
   "cell_type": "code",
   "execution_count": null,
   "id": "e020ff35-8f83-42f7-b5e7-db1279f29f2e",
   "metadata": {},
   "outputs": [],
   "source": []
  }
 ],
 "metadata": {
  "kernelspec": {
   "display_name": "Python 3",
   "language": "python",
   "name": "python3"
  },
  "language_info": {
   "codemirror_mode": {
    "name": "ipython",
    "version": 3
   },
   "file_extension": ".py",
   "mimetype": "text/x-python",
   "name": "python",
   "nbconvert_exporter": "python",
   "pygments_lexer": "ipython3",
   "version": "3.12.6"
  }
 },
 "nbformat": 4,
 "nbformat_minor": 5
}
